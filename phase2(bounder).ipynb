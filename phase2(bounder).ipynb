{
  "nbformat": 4,
  "nbformat_minor": 0,
  "metadata": {
    "colab": {
      "provenance": [],
      "authorship_tag": "ABX9TyMDEpVr09t51RET/UOEdML/",
      "include_colab_link": true
    },
    "kernelspec": {
      "name": "python3",
      "display_name": "Python 3"
    },
    "language_info": {
      "name": "python"
    }
  },
  "cells": [
    {
      "cell_type": "markdown",
      "metadata": {
        "id": "view-in-github",
        "colab_type": "text"
      },
      "source": [
        "<a href=\"https://colab.research.google.com/github/mohammed21kamall/BMP-Helper/blob/main/phase2(bounder).ipynb\" target=\"_parent\"><img src=\"https://colab.research.google.com/assets/colab-badge.svg\" alt=\"Open In Colab\"/></a>"
      ]
    },
    {
      "cell_type": "code",
      "execution_count": 14,
      "metadata": {
        "id": "bpvpd3LDqlf_"
      },
      "outputs": [],
      "source": [
        "from PIL import Image\n",
        "\n",
        "image = Image.open('pattern.jpeg')\n",
        "\n",
        "rotate_image = image.rotate(90, expand=True)\n",
        "\n",
        "repetition = 3\n",
        "new_height = rotate_image.height * repetition\n",
        "\n",
        "new_image = Image.new('RGB', (rotate_image.width, new_height))\n",
        "for i in range(repetition):\n",
        "    new_image.paste(rotate_image, (0, i * rotate_image.height))\n",
        "\n",
        "new_image.save('rotated_pattern.bmp')"
      ]
    },
    {
      "cell_type": "code",
      "source": [
        "new_image.show()"
      ],
      "metadata": {
        "id": "jqoBMCdiuku0"
      },
      "execution_count": 15,
      "outputs": []
    },
    {
      "cell_type": "code",
      "source": [],
      "metadata": {
        "id": "kBac-i4k9Xma"
      },
      "execution_count": null,
      "outputs": []
    }
  ]
}