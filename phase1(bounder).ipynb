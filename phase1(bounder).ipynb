{
  "nbformat": 4,
  "nbformat_minor": 0,
  "metadata": {
    "colab": {
      "provenance": [],
      "authorship_tag": "ABX9TyN6uzGnXWDvE/cv+PMEw7j2",
      "include_colab_link": true
    },
    "kernelspec": {
      "name": "python3",
      "display_name": "Python 3"
    },
    "language_info": {
      "name": "python"
    }
  },
  "cells": [
    {
      "cell_type": "markdown",
      "metadata": {
        "id": "view-in-github",
        "colab_type": "text"
      },
      "source": [
        "<a href=\"https://colab.research.google.com/github/mohammed21kamall/BMP-Helper/blob/main/phase1(bounder).ipynb\" target=\"_parent\"><img src=\"https://colab.research.google.com/assets/colab-badge.svg\" alt=\"Open In Colab\"/></a>"
      ]
    },
    {
      "cell_type": "code",
      "execution_count": 9,
      "metadata": {
        "id": "06TXGJNJkVd9"
      },
      "outputs": [],
      "source": [
        "from PIL import Image\n",
        "\n",
        "image = Image.open('pattern4.jpeg')\n",
        "repetitions = 3\n",
        "\n",
        "new_width = image.width * repetitions\n",
        "new_image = Image.new('RGB', (new_width, image.height))\n",
        "\n",
        "for i in range(repetitions):\n",
        "    new_image.paste(image, (i * image.width, 0))\n",
        "\n",
        "new_image.save('repeated_image4.bmp')\n",
        "new_image.show()\n"
      ]
    },
    {
      "cell_type": "code",
      "source": [
        "image.width"
      ],
      "metadata": {
        "colab": {
          "base_uri": "https://localhost:8080/"
        },
        "id": "2OXVIfOpnIR-",
        "outputId": "4b0cdde3-1894-4129-a3aa-557f99bd78e5"
      },
      "execution_count": 10,
      "outputs": [
        {
          "output_type": "execute_result",
          "data": {
            "text/plain": [
              "201"
            ]
          },
          "metadata": {},
          "execution_count": 10
        }
      ]
    },
    {
      "cell_type": "code",
      "source": [
        "image.height"
      ],
      "metadata": {
        "colab": {
          "base_uri": "https://localhost:8080/"
        },
        "id": "G3YYv-MB5But",
        "outputId": "f5a3076e-4646-41a3-d4a2-03bc4696c078"
      },
      "execution_count": 11,
      "outputs": [
        {
          "output_type": "execute_result",
          "data": {
            "text/plain": [
              "57"
            ]
          },
          "metadata": {},
          "execution_count": 11
        }
      ]
    },
    {
      "cell_type": "code",
      "source": [],
      "metadata": {
        "id": "i7mSRt2t5Pk2"
      },
      "execution_count": null,
      "outputs": []
    }
  ]
}